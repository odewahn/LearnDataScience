{
 "metadata": {
  "name": "WA4. Linear Regression - Data Cleanup"
 },
 "nbformat": 3,
 "nbformat_minor": 0,
 "worksheets": [
  {
   "cells": [
    {
     "cell_type": "markdown",
     "metadata": {},
     "source": [
      "Linear Regression - Data Cleanup\n",
      "================================"
     ]
    },
    {
     "cell_type": "markdown",
     "metadata": {},
     "source": [
      "Here we get into the detailed steps involved in data cleanup of the Lending Club dataset. We glossed over this in the Data Exploration lesson and left it as an exercise.  This is where we actually do the cleanup step by step."
     ]
    },
    {
     "cell_type": "markdown",
     "metadata": {},
     "source": [
      "\n",
      "1. Remove '%'\n",
      " * strip the last letter\n",
      " * map to float\n",
      "\n",
      "\n",
      "2. Remove ' months' suffix\n",
      " * strip the tailing letters\n",
      " * map to int\n",
      "\n",
      "3. Remove bad data\n",
      " * n/a values\n",
      " * outlier income\n",
      "  * histograms\n",
      "  * describe\n",
      "\n",
      "4. Map FICO.Range to single int\n",
      " * split on '-'\n",
      " * use bottom value\n",
      " * convert to int\n",
      " * show how to do mid-point\n",
      "\n"
     ]
    },
    {
     "cell_type": "code",
     "collapsed": false,
     "input": [
      "import pandas as pd\n",
      "from numpy import nan as NA\n",
      "loansData = pd.read_csv('https://spark-public.s3.amazonaws.com/dataanalysis/loansData.csv')\n",
      "loansData"
     ],
     "language": "python",
     "metadata": {},
     "outputs": [
      {
       "html": [
        "<pre>\n",
        "&ltclass 'pandas.core.frame.DataFrame'&gt\n",
        "Int64Index: 2500 entries, 81174 to 3116\n",
        "Data columns (total 14 columns):\n",
        "Amount.Requested                  2500  non-null values\n",
        "Amount.Funded.By.Investors        2500  non-null values\n",
        "Interest.Rate                     2500  non-null values\n",
        "Loan.Length                       2500  non-null values\n",
        "Loan.Purpose                      2500  non-null values\n",
        "Debt.To.Income.Ratio              2500  non-null values\n",
        "State                             2500  non-null values\n",
        "Home.Ownership                    2500  non-null values\n",
        "Monthly.Income                    2499  non-null values\n",
        "FICO.Range                        2500  non-null values\n",
        "Open.CREDIT.Lines                 2498  non-null values\n",
        "Revolving.CREDIT.Balance          2498  non-null values\n",
        "Inquiries.in.the.Last.6.Months    2498  non-null values\n",
        "Employment.Length                 2500  non-null values\n",
        "dtypes: float64(5), int64(1), object(8)\n",
        "</pre>"
       ],
       "output_type": "pyout",
       "prompt_number": 329,
       "text": [
        "<class 'pandas.core.frame.DataFrame'>\n",
        "Int64Index: 2500 entries, 81174 to 3116\n",
        "Data columns (total 14 columns):\n",
        "Amount.Requested                  2500  non-null values\n",
        "Amount.Funded.By.Investors        2500  non-null values\n",
        "Interest.Rate                     2500  non-null values\n",
        "Loan.Length                       2500  non-null values\n",
        "Loan.Purpose                      2500  non-null values\n",
        "Debt.To.Income.Ratio              2500  non-null values\n",
        "State                             2500  non-null values\n",
        "Home.Ownership                    2500  non-null values\n",
        "Monthly.Income                    2499  non-null values\n",
        "FICO.Range                        2500  non-null values\n",
        "Open.CREDIT.Lines                 2498  non-null values\n",
        "Revolving.CREDIT.Balance          2498  non-null values\n",
        "Inquiries.in.the.Last.6.Months    2498  non-null values\n",
        "Employment.Length                 2500  non-null values\n",
        "dtypes: float64(5), int64(1), object(8)"
       ]
      }
     ],
     "prompt_number": 329
    },
    {
     "cell_type": "code",
     "collapsed": false,
     "input": [
      "loansData['Interest.Rate'][0:5] # first five rows of Interest.Rate"
     ],
     "language": "python",
     "metadata": {},
     "outputs": [
      {
       "output_type": "pyout",
       "prompt_number": 330,
       "text": [
        "81174     8.90%\n",
        "99592    12.12%\n",
        "80059    21.98%\n",
        "15825     9.99%\n",
        "33182    11.71%\n",
        "Name: Interest.Rate, dtype: object"
       ]
      }
     ],
     "prompt_number": 330
    },
    {
     "cell_type": "markdown",
     "metadata": {},
     "source": [
      "* removing % signs from rates"
     ]
    },
    {
     "cell_type": "code",
     "collapsed": false,
     "input": [
      "ir = loansData['Interest.Rate']\n",
      "ir[0:5]"
     ],
     "language": "python",
     "metadata": {},
     "outputs": [
      {
       "output_type": "pyout",
       "prompt_number": 331,
       "text": [
        "81174     8.90%\n",
        "99592    12.12%\n",
        "80059    21.98%\n",
        "15825     9.99%\n",
        "33182    11.71%\n",
        "Name: Interest.Rate, dtype: object"
       ]
      }
     ],
     "prompt_number": 331
    },
    {
     "cell_type": "code",
     "collapsed": false,
     "input": [
      "type(ir[0:1])\n",
      "irbak = ir\n",
      "type(irbak)\n",
      "loansDataBak = loansData\n",
      "loansDataBak.reset_index()\n",
      "loansDataBak\n",
      "loansDataBak['Interest.Rate']\n",
      "loansData"
     ],
     "language": "python",
     "metadata": {},
     "outputs": [
      {
       "html": [
        "<pre>\n",
        "&ltclass 'pandas.core.frame.DataFrame'&gt\n",
        "Int64Index: 2500 entries, 81174 to 3116\n",
        "Data columns (total 14 columns):\n",
        "Amount.Requested                  2500  non-null values\n",
        "Amount.Funded.By.Investors        2500  non-null values\n",
        "Interest.Rate                     2500  non-null values\n",
        "Loan.Length                       2500  non-null values\n",
        "Loan.Purpose                      2500  non-null values\n",
        "Debt.To.Income.Ratio              2500  non-null values\n",
        "State                             2500  non-null values\n",
        "Home.Ownership                    2500  non-null values\n",
        "Monthly.Income                    2499  non-null values\n",
        "FICO.Range                        2500  non-null values\n",
        "Open.CREDIT.Lines                 2498  non-null values\n",
        "Revolving.CREDIT.Balance          2498  non-null values\n",
        "Inquiries.in.the.Last.6.Months    2498  non-null values\n",
        "Employment.Length                 2500  non-null values\n",
        "dtypes: float64(5), int64(1), object(8)\n",
        "</pre>"
       ],
       "output_type": "pyout",
       "prompt_number": 332,
       "text": [
        "<class 'pandas.core.frame.DataFrame'>\n",
        "Int64Index: 2500 entries, 81174 to 3116\n",
        "Data columns (total 14 columns):\n",
        "Amount.Requested                  2500  non-null values\n",
        "Amount.Funded.By.Investors        2500  non-null values\n",
        "Interest.Rate                     2500  non-null values\n",
        "Loan.Length                       2500  non-null values\n",
        "Loan.Purpose                      2500  non-null values\n",
        "Debt.To.Income.Ratio              2500  non-null values\n",
        "State                             2500  non-null values\n",
        "Home.Ownership                    2500  non-null values\n",
        "Monthly.Income                    2499  non-null values\n",
        "FICO.Range                        2500  non-null values\n",
        "Open.CREDIT.Lines                 2498  non-null values\n",
        "Revolving.CREDIT.Balance          2498  non-null values\n",
        "Inquiries.in.the.Last.6.Months    2498  non-null values\n",
        "Employment.Length                 2500  non-null values\n",
        "dtypes: float64(5), int64(1), object(8)"
       ]
      }
     ],
     "prompt_number": 332
    },
    {
     "cell_type": "code",
     "collapsed": false,
     "input": [
      "ldb = loansDataBak.reset_index() # explain\n",
      "ldb['Interest.Rate'][0:5]\n",
      "irates = ldb['Interest.Rate'][0:]\n",
      "type(irates)\n",
      "\n",
      "[irates[k] for k in (0,1,2,3,4)]\n",
      "#int_rates = [ float(x[:-1]) for x in irates[k] ]\n",
      "#\"\"\"\n",
      "#---------------------------------------------------------------------------\n",
      "#ValueError                                Traceback (most recent call last)\n",
      "#<ipython-input-46-5c4f2333efd1> in <module>()\n",
      "#      5 \n",
      "#      6 [irates[k] for k in (0,1,2,3,4)]\n",
      "#----> 7 int_rates = [ float(x[:-1]) for x in irates[k] ]\n",
      "#\n",
      "#ValueError: could not convert string to float: \n",
      "#\"\"\"\n",
      "\n"
     ],
     "language": "python",
     "metadata": {},
     "outputs": [
      {
       "output_type": "pyout",
       "prompt_number": 333,
       "text": [
        "['8.90%', '12.12%', '21.98%', '9.99%', '11.71%']"
       ]
      }
     ],
     "prompt_number": 333
    },
    {
     "cell_type": "code",
     "collapsed": false,
     "input": [
      "type(ldb)"
     ],
     "language": "python",
     "metadata": {},
     "outputs": [
      {
       "output_type": "pyout",
       "prompt_number": 334,
       "text": [
        "pandas.core.frame.DataFrame"
       ]
      }
     ],
     "prompt_number": 334
    },
    {
     "cell_type": "code",
     "collapsed": false,
     "input": [
      "srates = ldb['Interest.Rate']"
     ],
     "language": "python",
     "metadata": {},
     "outputs": [],
     "prompt_number": 335
    },
    {
     "cell_type": "code",
     "collapsed": false,
     "input": [
      "#nas = [ x for x in srates if x.isnull() ] # AttributeError: 'str' object has no attribute 'isnull'"
     ],
     "language": "python",
     "metadata": {},
     "outputs": [],
     "prompt_number": 336
    },
    {
     "cell_type": "code",
     "collapsed": false,
     "input": [
      "nas = [ x for x in srates if not(x[0].isdigit()) ] # AttributeError: 'str' object has no attribute 'isnull'"
     ],
     "language": "python",
     "metadata": {},
     "outputs": [],
     "prompt_number": 337
    },
    {
     "cell_type": "code",
     "collapsed": false,
     "input": [
      "len(nas)"
     ],
     "language": "python",
     "metadata": {},
     "outputs": [
      {
       "output_type": "pyout",
       "prompt_number": 338,
       "text": [
        "0"
       ]
      }
     ],
     "prompt_number": 338
    },
    {
     "cell_type": "code",
     "collapsed": false,
     "input": [
      "srates[0][:-1]"
     ],
     "language": "python",
     "metadata": {},
     "outputs": [
      {
       "output_type": "pyout",
       "prompt_number": 339,
       "text": [
        "'8.90'"
       ]
      }
     ],
     "prompt_number": 339
    },
    {
     "cell_type": "code",
     "collapsed": false,
     "input": [
      "float(srates[0][:-1])"
     ],
     "language": "python",
     "metadata": {},
     "outputs": [
      {
       "output_type": "pyout",
       "prompt_number": 340,
       "text": [
        "8.9"
       ]
      }
     ],
     "prompt_number": 340
    },
    {
     "cell_type": "code",
     "collapsed": false,
     "input": [
      "nopct = [ x[:-1] for x in srates ]"
     ],
     "language": "python",
     "metadata": {},
     "outputs": [],
     "prompt_number": 341
    },
    {
     "cell_type": "code",
     "collapsed": false,
     "input": [
      "flrates = [float(x) for x in nopct]"
     ],
     "language": "python",
     "metadata": {},
     "outputs": [],
     "prompt_number": 342
    },
    {
     "cell_type": "code",
     "collapsed": false,
     "input": [
      "flrates[0:5]"
     ],
     "language": "python",
     "metadata": {},
     "outputs": [
      {
       "output_type": "pyout",
       "prompt_number": 343,
       "text": [
        "[8.9, 12.12, 21.98, 9.99, 11.71]"
       ]
      }
     ],
     "prompt_number": 343
    },
    {
     "cell_type": "code",
     "collapsed": false,
     "input": [
      "flrate = map(float, nopct)"
     ],
     "language": "python",
     "metadata": {},
     "outputs": [],
     "prompt_number": 344
    },
    {
     "cell_type": "code",
     "collapsed": false,
     "input": [
      "flrate[0:5]"
     ],
     "language": "python",
     "metadata": {},
     "outputs": [
      {
       "output_type": "pyout",
       "prompt_number": 345,
       "text": [
        "[8.9, 12.12, 21.98, 9.99, 11.71]"
       ]
      }
     ],
     "prompt_number": 345
    },
    {
     "cell_type": "code",
     "collapsed": false,
     "input": [
      "len(flrate)"
     ],
     "language": "python",
     "metadata": {},
     "outputs": [
      {
       "output_type": "pyout",
       "prompt_number": 346,
       "text": [
        "2500"
       ]
      }
     ],
     "prompt_number": 346
    },
    {
     "cell_type": "code",
     "collapsed": false,
     "input": [
      "ldb"
     ],
     "language": "python",
     "metadata": {},
     "outputs": [
      {
       "html": [
        "<pre>\n",
        "&ltclass 'pandas.core.frame.DataFrame'&gt\n",
        "Int64Index: 2500 entries, 0 to 2499\n",
        "Data columns (total 15 columns):\n",
        "index                             2500  non-null values\n",
        "Amount.Requested                  2500  non-null values\n",
        "Amount.Funded.By.Investors        2500  non-null values\n",
        "Interest.Rate                     2500  non-null values\n",
        "Loan.Length                       2500  non-null values\n",
        "Loan.Purpose                      2500  non-null values\n",
        "Debt.To.Income.Ratio              2500  non-null values\n",
        "State                             2500  non-null values\n",
        "Home.Ownership                    2500  non-null values\n",
        "Monthly.Income                    2499  non-null values\n",
        "FICO.Range                        2500  non-null values\n",
        "Open.CREDIT.Lines                 2498  non-null values\n",
        "Revolving.CREDIT.Balance          2498  non-null values\n",
        "Inquiries.in.the.Last.6.Months    2498  non-null values\n",
        "Employment.Length                 2500  non-null values\n",
        "dtypes: float64(5), int64(2), object(8)\n",
        "</pre>"
       ],
       "output_type": "pyout",
       "prompt_number": 347,
       "text": [
        "<class 'pandas.core.frame.DataFrame'>\n",
        "Int64Index: 2500 entries, 0 to 2499\n",
        "Data columns (total 15 columns):\n",
        "index                             2500  non-null values\n",
        "Amount.Requested                  2500  non-null values\n",
        "Amount.Funded.By.Investors        2500  non-null values\n",
        "Interest.Rate                     2500  non-null values\n",
        "Loan.Length                       2500  non-null values\n",
        "Loan.Purpose                      2500  non-null values\n",
        "Debt.To.Income.Ratio              2500  non-null values\n",
        "State                             2500  non-null values\n",
        "Home.Ownership                    2500  non-null values\n",
        "Monthly.Income                    2499  non-null values\n",
        "FICO.Range                        2500  non-null values\n",
        "Open.CREDIT.Lines                 2498  non-null values\n",
        "Revolving.CREDIT.Balance          2498  non-null values\n",
        "Inquiries.in.the.Last.6.Months    2498  non-null values\n",
        "Employment.Length                 2500  non-null values\n",
        "dtypes: float64(5), int64(2), object(8)"
       ]
      }
     ],
     "prompt_number": 347
    },
    {
     "cell_type": "code",
     "collapsed": false,
     "input": [
      "ldb['Interest.Rate'] = flrate"
     ],
     "language": "python",
     "metadata": {},
     "outputs": [],
     "prompt_number": 348
    },
    {
     "cell_type": "code",
     "collapsed": false,
     "input": [
      "ldb[0:5]"
     ],
     "language": "python",
     "metadata": {},
     "outputs": [
      {
       "html": [
        "<pre>\n",
        "&ltclass 'pandas.core.frame.DataFrame'&gt\n",
        "Int64Index: 5 entries, 0 to 4\n",
        "Data columns (total 15 columns):\n",
        "index                             5  non-null values\n",
        "Amount.Requested                  5  non-null values\n",
        "Amount.Funded.By.Investors        5  non-null values\n",
        "Interest.Rate                     5  non-null values\n",
        "Loan.Length                       5  non-null values\n",
        "Loan.Purpose                      5  non-null values\n",
        "Debt.To.Income.Ratio              5  non-null values\n",
        "State                             5  non-null values\n",
        "Home.Ownership                    5  non-null values\n",
        "Monthly.Income                    5  non-null values\n",
        "FICO.Range                        5  non-null values\n",
        "Open.CREDIT.Lines                 5  non-null values\n",
        "Revolving.CREDIT.Balance          5  non-null values\n",
        "Inquiries.in.the.Last.6.Months    5  non-null values\n",
        "Employment.Length                 5  non-null values\n",
        "dtypes: float64(6), int64(2), object(7)\n",
        "</pre>"
       ],
       "output_type": "pyout",
       "prompt_number": 349,
       "text": [
        "   index  Amount.Requested  Amount.Funded.By.Investors  Interest.Rate  \\\n",
        "0  81174             20000                       20000           8.90   \n",
        "1  99592             19200                       19200          12.12   \n",
        "2  80059             35000                       35000          21.98   \n",
        "3  15825             10000                        9975           9.99   \n",
        "4  33182             12000                       12000          11.71   \n",
        "\n",
        "  Loan.Length        Loan.Purpose Debt.To.Income.Ratio State Home.Ownership  \\\n",
        "0   36 months  debt_consolidation               14.90%    SC       MORTGAGE   \n",
        "1   36 months  debt_consolidation               28.36%    TX       MORTGAGE   \n",
        "2   60 months  debt_consolidation               23.81%    CA       MORTGAGE   \n",
        "3   36 months  debt_consolidation               14.30%    KS       MORTGAGE   \n",
        "4   36 months         credit_card               18.78%    NJ           RENT   \n",
        "\n",
        "   Monthly.Income FICO.Range  Open.CREDIT.Lines  Revolving.CREDIT.Balance  \\\n",
        "0         6541.67    735-739                 14                     14272   \n",
        "1         4583.33    715-719                 12                     11140   \n",
        "2        11500.00    690-694                 14                     21977   \n",
        "3         3833.33    695-699                 10                      9346   \n",
        "4         3195.00    695-699                 11                     14469   \n",
        "\n",
        "   Inquiries.in.the.Last.6.Months Employment.Length  \n",
        "0                               2          < 1 year  \n",
        "1                               1           2 years  \n",
        "2                               1           2 years  \n",
        "3                               0           5 years  \n",
        "4                               0           9 years  "
       ]
      }
     ],
     "prompt_number": 349
    },
    {
     "cell_type": "code",
     "collapsed": false,
     "input": [
      "ldb['Interest.Rate'][0:5]"
     ],
     "language": "python",
     "metadata": {},
     "outputs": [
      {
       "output_type": "pyout",
       "prompt_number": 350,
       "text": [
        "0     8.90\n",
        "1    12.12\n",
        "2    21.98\n",
        "3     9.99\n",
        "4    11.71\n",
        "Name: Interest.Rate, dtype: float64"
       ]
      }
     ],
     "prompt_number": 350
    },
    {
     "cell_type": "code",
     "collapsed": false,
     "input": [
      "srates = loansData['Interest.Rate']"
     ],
     "language": "python",
     "metadata": {},
     "outputs": [],
     "prompt_number": 351
    },
    {
     "cell_type": "code",
     "collapsed": false,
     "input": [
      "nopct = [ x[:-1] for x in srates ]"
     ],
     "language": "python",
     "metadata": {},
     "outputs": [],
     "prompt_number": 352
    },
    {
     "cell_type": "code",
     "collapsed": false,
     "input": [
      "flrates = [float(x) for x in nopct]\n"
     ],
     "language": "python",
     "metadata": {},
     "outputs": [],
     "prompt_number": 353
    },
    {
     "cell_type": "code",
     "collapsed": false,
     "input": [
      "rates = [float(x[:-1]) for x in srates] # use this"
     ],
     "language": "python",
     "metadata": {},
     "outputs": [],
     "prompt_number": 354
    },
    {
     "cell_type": "code",
     "collapsed": false,
     "input": [
      "flrates == rates"
     ],
     "language": "python",
     "metadata": {},
     "outputs": [
      {
       "output_type": "pyout",
       "prompt_number": 355,
       "text": [
        "True"
       ]
      }
     ],
     "prompt_number": 355
    },
    {
     "cell_type": "code",
     "collapsed": false,
     "input": [
      "loansData['Interest.Rate'] = flrates"
     ],
     "language": "python",
     "metadata": {},
     "outputs": [],
     "prompt_number": 356
    },
    {
     "cell_type": "code",
     "collapsed": false,
     "input": [
      "loansData['Interest.Rate'][0:5]"
     ],
     "language": "python",
     "metadata": {},
     "outputs": [
      {
       "output_type": "pyout",
       "prompt_number": 357,
       "text": [
        "81174     8.90\n",
        "99592    12.12\n",
        "80059    21.98\n",
        "15825     9.99\n",
        "33182    11.71\n",
        "Name: Interest.Rate, dtype: float64"
       ]
      }
     ],
     "prompt_number": 357
    },
    {
     "cell_type": "markdown",
     "metadata": {},
     "source": [
      "### Conclusion of step 1\n",
      "* ok! whew! we're done with the % symbol stuff\n",
      "* we learnt quite a few things along the way that will be useful in the next part"
     ]
    },
    {
     "cell_type": "markdown",
     "metadata": {},
     "source": [
      "## Step 2: Remove the months"
     ]
    },
    {
     "cell_type": "code",
     "collapsed": false,
     "input": [
      "withmons = ldb['Loan.Length'] "
     ],
     "language": "python",
     "metadata": {},
     "outputs": [],
     "prompt_number": 358
    },
    {
     "cell_type": "code",
     "collapsed": false,
     "input": [],
     "language": "python",
     "metadata": {},
     "outputs": [],
     "prompt_number": 358
    },
    {
     "cell_type": "code",
     "collapsed": false,
     "input": [
      "wmons = withmons[0:]"
     ],
     "language": "python",
     "metadata": {},
     "outputs": [],
     "prompt_number": 359
    },
    {
     "cell_type": "code",
     "collapsed": false,
     "input": [
      "wmons[0:5]"
     ],
     "language": "python",
     "metadata": {},
     "outputs": [
      {
       "output_type": "pyout",
       "prompt_number": 360,
       "text": [
        "0    36 months\n",
        "1    36 months\n",
        "2    60 months\n",
        "3    36 months\n",
        "4    36 months\n",
        "Name: Loan.Length, dtype: object"
       ]
      }
     ],
     "prompt_number": 360
    },
    {
     "cell_type": "code",
     "collapsed": false,
     "input": [
      "wmons"
     ],
     "language": "python",
     "metadata": {},
     "outputs": [
      {
       "output_type": "pyout",
       "prompt_number": 361,
       "text": [
        "0     36 months\n",
        "1     36 months\n",
        "2     60 months\n",
        "3     36 months\n",
        "4     36 months\n",
        "5     36 months\n",
        "6     36 months\n",
        "7     60 months\n",
        "8     36 months\n",
        "9     36 months\n",
        "10    36 months\n",
        "11    36 months\n",
        "12    60 months\n",
        "13    36 months\n",
        "14    36 months\n",
        "...\n",
        "2485    36 months\n",
        "2486    36 months\n",
        "2487    36 months\n",
        "2488    36 months\n",
        "2489    36 months\n",
        "2490    36 months\n",
        "2491    36 months\n",
        "2492    36 months\n",
        "2493    60 months\n",
        "2494    36 months\n",
        "2495    60 months\n",
        "2496    60 months\n",
        "2497    36 months\n",
        "2498    36 months\n",
        "2499    36 months\n",
        "Name: Loan.Length, Length: 2500, dtype: object"
       ]
      }
     ],
     "prompt_number": 361
    },
    {
     "cell_type": "code",
     "collapsed": false,
     "input": [
      "wmons[0].split()"
     ],
     "language": "python",
     "metadata": {},
     "outputs": [
      {
       "output_type": "pyout",
       "prompt_number": 362,
       "text": [
        "['36', 'months']"
       ]
      }
     ],
     "prompt_number": 362
    },
    {
     "cell_type": "code",
     "collapsed": false,
     "input": [
      "wmons[0].split()[0]"
     ],
     "language": "python",
     "metadata": {},
     "outputs": [
      {
       "output_type": "pyout",
       "prompt_number": 363,
       "text": [
        "'36'"
       ]
      }
     ],
     "prompt_number": 363
    },
    {
     "cell_type": "code",
     "collapsed": false,
     "input": [
      "int(wmons[0].split()[0])"
     ],
     "language": "python",
     "metadata": {},
     "outputs": [
      {
       "output_type": "pyout",
       "prompt_number": 364,
       "text": [
        "36"
       ]
      }
     ],
     "prompt_number": 364
    },
    {
     "cell_type": "code",
     "collapsed": false,
     "input": [
      "x = wmons[0].split()\n"
     ],
     "language": "python",
     "metadata": {},
     "outputs": [],
     "prompt_number": 365
    },
    {
     "cell_type": "code",
     "collapsed": false,
     "input": [
      "x[0]"
     ],
     "language": "python",
     "metadata": {},
     "outputs": [
      {
       "output_type": "pyout",
       "prompt_number": 366,
       "text": [
        "'36'"
       ]
      }
     ],
     "prompt_number": 366
    },
    {
     "cell_type": "code",
     "collapsed": false,
     "input": [
      "int(x[0])"
     ],
     "language": "python",
     "metadata": {},
     "outputs": [
      {
       "output_type": "pyout",
       "prompt_number": 367,
       "text": [
        "36"
       ]
      }
     ],
     "prompt_number": 367
    },
    {
     "cell_type": "code",
     "collapsed": false,
     "input": [
      "intmons = [ int(x.split()[0]) for x in wmons ] "
     ],
     "language": "python",
     "metadata": {},
     "outputs": [],
     "prompt_number": 368
    },
    {
     "cell_type": "code",
     "collapsed": false,
     "input": [
      "intmons[0:10]"
     ],
     "language": "python",
     "metadata": {},
     "outputs": [
      {
       "output_type": "pyout",
       "prompt_number": 369,
       "text": [
        "[36, 36, 60, 36, 36, 36, 36, 60, 36, 36]"
       ]
      }
     ],
     "prompt_number": 369
    },
    {
     "cell_type": "code",
     "collapsed": false,
     "input": [
      "loansData['Loan.Length']"
     ],
     "language": "python",
     "metadata": {},
     "outputs": [
      {
       "output_type": "pyout",
       "prompt_number": 370,
       "text": [
        "81174    36 months\n",
        "99592    36 months\n",
        "80059    60 months\n",
        "15825    36 months\n",
        "33182    36 months\n",
        "62403    36 months\n",
        "48808    36 months\n",
        "22090    60 months\n",
        "76404    36 months\n",
        "15867    36 months\n",
        "94971    36 months\n",
        "36911    36 months\n",
        "41200    60 months\n",
        "83869    36 months\n",
        "53853    36 months\n",
        "...\n",
        "13070    36 months\n",
        "45836    36 months\n",
        "52330    36 months\n",
        "48243    36 months\n",
        "63256    36 months\n",
        "42124    36 months\n",
        "78043    36 months\n",
        "925      36 months\n",
        "74047    60 months\n",
        "49957    36 months\n",
        "23735    60 months\n",
        "65882    60 months\n",
        "55610    36 months\n",
        "38576    36 months\n",
        "3116     36 months\n",
        "Name: Loan.Length, Length: 2500, dtype: object"
       ]
      }
     ],
     "prompt_number": 370
    },
    {
     "cell_type": "code",
     "collapsed": false,
     "input": [
      "loansData['Loan.Length'].value_counts()"
     ],
     "language": "python",
     "metadata": {},
     "outputs": [
      {
       "output_type": "pyout",
       "prompt_number": 371,
       "text": [
        "36 months    1952\n",
        "60 months     548\n",
        "dtype: int64"
       ]
      }
     ],
     "prompt_number": 371
    },
    {
     "cell_type": "markdown",
     "metadata": {},
     "source": [
      "### Conclusion of Step 2\n",
      "* Here we used the techniques we learned in Step 1.\n",
      " * Pull out a column from a data frame\n",
      " * Operate on it, perform some transformations\n",
      " * Replace the column in the original dataframe with this new column  \n",
      "* We applied them to removing the ' months' suffix in the Loan.Length column."
     ]
    },
    {
     "cell_type": "markdown",
     "metadata": {},
     "source": [
      "## Step 3: Remove bad data"
     ]
    },
    {
     "cell_type": "code",
     "collapsed": false,
     "input": [
      "loansData['Monthly.Income'].describe()"
     ],
     "language": "python",
     "metadata": {},
     "outputs": [
      {
       "output_type": "pyout",
       "prompt_number": 372,
       "text": [
        "count      2499.000000\n",
        "mean       5688.931321\n",
        "std        3963.118185\n",
        "min         588.500000\n",
        "25%        3500.000000\n",
        "50%        5000.000000\n",
        "75%        6800.000000\n",
        "max      102750.000000\n",
        "dtype: float64"
       ]
      }
     ],
     "prompt_number": 372
    },
    {
     "cell_type": "markdown",
     "metadata": {},
     "source": [
      "First remove implausible values.  We see the max value to be 102750.  \n",
      "This is a MONTHLY income of 100K dollars, which is certainly possible, but ....  \n",
      "highly implausible for a person seeking a loan of a few 10's of K dollars, i.e. implausible in this context.  "
     ]
    },
    {
     "cell_type": "code",
     "collapsed": false,
     "input": [
      "loansData['Monthly.Income'].idxmax() # find the place where the max occurs"
     ],
     "language": "python",
     "metadata": {},
     "outputs": [
      {
       "output_type": "pyout",
       "prompt_number": 373,
       "text": [
        "54487"
       ]
      }
     ],
     "prompt_number": 373
    },
    {
     "cell_type": "markdown",
     "metadata": {},
     "source": [
      "But there's a better way - a row filter i.e. an expression used as a way to restrict the rows in a dataframe.  \n",
      "In our case we want to eliminate rows above 100K dollars. i.e. only keep those less than 100K dollars."
     ]
    },
    {
     "cell_type": "code",
     "collapsed": false,
     "input": [
      "loansData['Monthly.Income'][loansData['Monthly.Income'] < 100000]"
     ],
     "language": "python",
     "metadata": {},
     "outputs": [
      {
       "output_type": "pyout",
       "prompt_number": 374,
       "text": [
        "81174     6541.67\n",
        "99592     4583.33\n",
        "80059    11500.00\n",
        "15825     3833.33\n",
        "33182     3195.00\n",
        "62403     4891.67\n",
        "48808     2916.67\n",
        "22090    13863.42\n",
        "76404     3150.00\n",
        "15867     5000.00\n",
        "94971     3575.00\n",
        "36911     4250.00\n",
        "41200    14166.67\n",
        "83869     9166.67\n",
        "53853    11250.00\n",
        "...\n",
        "13070    7083.33\n",
        "45836    2464.37\n",
        "52330    8000.00\n",
        "48243    3833.33\n",
        "63256    5166.67\n",
        "42124    4500.00\n",
        "78043    3983.33\n",
        "925      5166.67\n",
        "74047    7083.33\n",
        "49957    6666.67\n",
        "23735    9250.00\n",
        "65882    8903.25\n",
        "55610    2166.67\n",
        "38576    3500.00\n",
        "3116     3875.00\n",
        "Name: Monthly.Income, Length: 2498, dtype: float64"
       ]
      }
     ],
     "prompt_number": 374
    },
    {
     "cell_type": "code",
     "collapsed": false,
     "input": [],
     "language": "python",
     "metadata": {},
     "outputs": [],
     "prompt_number": 374
    },
    {
     "cell_type": "code",
     "collapsed": false,
     "input": [
      "loansData['Monthly.Income'].describe()"
     ],
     "language": "python",
     "metadata": {},
     "outputs": [
      {
       "output_type": "pyout",
       "prompt_number": 375,
       "text": [
        "count      2499.000000\n",
        "mean       5688.931321\n",
        "std        3963.118185\n",
        "min         588.500000\n",
        "25%        3500.000000\n",
        "50%        5000.000000\n",
        "75%        6800.000000\n",
        "max      102750.000000\n",
        "dtype: float64"
       ]
      }
     ],
     "prompt_number": 375
    },
    {
     "cell_type": "code",
     "collapsed": false,
     "input": [
      "ldlt100 = ldb[ldb['Monthly.Income'] < 100000]"
     ],
     "language": "python",
     "metadata": {},
     "outputs": [],
     "prompt_number": 376
    },
    {
     "cell_type": "code",
     "collapsed": false,
     "input": [
      "ldlt100"
     ],
     "language": "python",
     "metadata": {},
     "outputs": [
      {
       "html": [
        "<pre>\n",
        "&ltclass 'pandas.core.frame.DataFrame'&gt\n",
        "Int64Index: 2498 entries, 0 to 2499\n",
        "Data columns (total 15 columns):\n",
        "index                             2498  non-null values\n",
        "Amount.Requested                  2498  non-null values\n",
        "Amount.Funded.By.Investors        2498  non-null values\n",
        "Interest.Rate                     2498  non-null values\n",
        "Loan.Length                       2498  non-null values\n",
        "Loan.Purpose                      2498  non-null values\n",
        "Debt.To.Income.Ratio              2498  non-null values\n",
        "State                             2498  non-null values\n",
        "Home.Ownership                    2498  non-null values\n",
        "Monthly.Income                    2498  non-null values\n",
        "FICO.Range                        2498  non-null values\n",
        "Open.CREDIT.Lines                 2497  non-null values\n",
        "Revolving.CREDIT.Balance          2497  non-null values\n",
        "Inquiries.in.the.Last.6.Months    2497  non-null values\n",
        "Employment.Length                 2498  non-null values\n",
        "dtypes: float64(6), int64(2), object(7)\n",
        "</pre>"
       ],
       "output_type": "pyout",
       "prompt_number": 377,
       "text": [
        "<class 'pandas.core.frame.DataFrame'>\n",
        "Int64Index: 2498 entries, 0 to 2499\n",
        "Data columns (total 15 columns):\n",
        "index                             2498  non-null values\n",
        "Amount.Requested                  2498  non-null values\n",
        "Amount.Funded.By.Investors        2498  non-null values\n",
        "Interest.Rate                     2498  non-null values\n",
        "Loan.Length                       2498  non-null values\n",
        "Loan.Purpose                      2498  non-null values\n",
        "Debt.To.Income.Ratio              2498  non-null values\n",
        "State                             2498  non-null values\n",
        "Home.Ownership                    2498  non-null values\n",
        "Monthly.Income                    2498  non-null values\n",
        "FICO.Range                        2498  non-null values\n",
        "Open.CREDIT.Lines                 2497  non-null values\n",
        "Revolving.CREDIT.Balance          2497  non-null values\n",
        "Inquiries.in.the.Last.6.Months    2497  non-null values\n",
        "Employment.Length                 2498  non-null values\n",
        "dtypes: float64(6), int64(2), object(7)"
       ]
      }
     ],
     "prompt_number": 377
    },
    {
     "cell_type": "code",
     "collapsed": false,
     "input": [
      "len(ldlt100)"
     ],
     "language": "python",
     "metadata": {},
     "outputs": [
      {
       "output_type": "pyout",
       "prompt_number": 378,
       "text": [
        "2498"
       ]
      }
     ],
     "prompt_number": 378
    },
    {
     "cell_type": "markdown",
     "metadata": {},
     "source": [
      "Now drop any rows that have 'NA' values ie data not available.  \n",
      "In database terminiology these would be 'NULL' values."
     ]
    },
    {
     "cell_type": "code",
     "collapsed": false,
     "input": [
      "ldb2 = ldlt100.dropna()"
     ],
     "language": "python",
     "metadata": {},
     "outputs": [],
     "prompt_number": 379
    },
    {
     "cell_type": "code",
     "collapsed": false,
     "input": [
      "ldb2"
     ],
     "language": "python",
     "metadata": {},
     "outputs": [
      {
       "html": [
        "<pre>\n",
        "&ltclass 'pandas.core.frame.DataFrame'&gt\n",
        "Int64Index: 2497 entries, 0 to 2499\n",
        "Data columns (total 15 columns):\n",
        "index                             2497  non-null values\n",
        "Amount.Requested                  2497  non-null values\n",
        "Amount.Funded.By.Investors        2497  non-null values\n",
        "Interest.Rate                     2497  non-null values\n",
        "Loan.Length                       2497  non-null values\n",
        "Loan.Purpose                      2497  non-null values\n",
        "Debt.To.Income.Ratio              2497  non-null values\n",
        "State                             2497  non-null values\n",
        "Home.Ownership                    2497  non-null values\n",
        "Monthly.Income                    2497  non-null values\n",
        "FICO.Range                        2497  non-null values\n",
        "Open.CREDIT.Lines                 2497  non-null values\n",
        "Revolving.CREDIT.Balance          2497  non-null values\n",
        "Inquiries.in.the.Last.6.Months    2497  non-null values\n",
        "Employment.Length                 2497  non-null values\n",
        "dtypes: float64(6), int64(2), object(7)\n",
        "</pre>"
       ],
       "output_type": "pyout",
       "prompt_number": 380,
       "text": [
        "<class 'pandas.core.frame.DataFrame'>\n",
        "Int64Index: 2497 entries, 0 to 2499\n",
        "Data columns (total 15 columns):\n",
        "index                             2497  non-null values\n",
        "Amount.Requested                  2497  non-null values\n",
        "Amount.Funded.By.Investors        2497  non-null values\n",
        "Interest.Rate                     2497  non-null values\n",
        "Loan.Length                       2497  non-null values\n",
        "Loan.Purpose                      2497  non-null values\n",
        "Debt.To.Income.Ratio              2497  non-null values\n",
        "State                             2497  non-null values\n",
        "Home.Ownership                    2497  non-null values\n",
        "Monthly.Income                    2497  non-null values\n",
        "FICO.Range                        2497  non-null values\n",
        "Open.CREDIT.Lines                 2497  non-null values\n",
        "Revolving.CREDIT.Balance          2497  non-null values\n",
        "Inquiries.in.the.Last.6.Months    2497  non-null values\n",
        "Employment.Length                 2497  non-null values\n",
        "dtypes: float64(6), int64(2), object(7)"
       ]
      }
     ],
     "prompt_number": 380
    },
    {
     "cell_type": "code",
     "collapsed": false,
     "input": [
      "len(ldb2)"
     ],
     "language": "python",
     "metadata": {},
     "outputs": [
      {
       "output_type": "pyout",
       "prompt_number": 381,
       "text": [
        "2497"
       ]
      }
     ],
     "prompt_number": 381
    },
    {
     "cell_type": "markdown",
     "metadata": {},
     "source": [
      "So we dropped one row that had an NA value somewhere."
     ]
    },
    {
     "cell_type": "markdown",
     "metadata": {},
     "source": [
      "### Conclusion of step 3\n",
      "* We used techniques we learned in step 1 to pick out a columns and operate on it\n",
      "* We also learned how to filter the data based on expressions involving column values\n",
      "* Finally we learnt how to drop NA values"
     ]
    },
    {
     "cell_type": "markdown",
     "metadata": {},
     "source": [
      "Now that we have removed the \"bad\" data, let's take on the final data-cleaning task for this data set - converting the ranges \n",
      "to single integers."
     ]
    },
    {
     "cell_type": "markdown",
     "metadata": {},
     "source": [
      "## Step 4: Change FICO range to a single value"
     ]
    },
    {
     "cell_type": "markdown",
     "metadata": {},
     "source": [
      "Note that the FICO values are given in a range which is in the form of a string that looks like lowerlimit-upperlimit, eg 720-724.  \n",
      "We want to convert these values to a single int value representing the lower limit. e.g. 720 in the above example.\n"
     ]
    },
    {
     "cell_type": "code",
     "collapsed": false,
     "input": [
      "ficostr = ldb2['FICO.Range'] "
     ],
     "language": "python",
     "metadata": {},
     "outputs": [],
     "prompt_number": 382
    },
    {
     "cell_type": "code",
     "collapsed": false,
     "input": [
      "ficostr[0:10]"
     ],
     "language": "python",
     "metadata": {},
     "outputs": [
      {
       "output_type": "pyout",
       "prompt_number": 383,
       "text": [
        "0    735-739\n",
        "1    715-719\n",
        "2    690-694\n",
        "3    695-699\n",
        "4    695-699\n",
        "5    670-674\n",
        "6    720-724\n",
        "7    705-709\n",
        "8    685-689\n",
        "9    715-719\n",
        "Name: FICO.Range, dtype: object"
       ]
      }
     ],
     "prompt_number": 383
    },
    {
     "cell_type": "code",
     "collapsed": false,
     "input": [
      "ficostr[0]"
     ],
     "language": "python",
     "metadata": {},
     "outputs": [
      {
       "output_type": "pyout",
       "prompt_number": 384,
       "text": [
        "'735-739'"
       ]
      }
     ],
     "prompt_number": 384
    },
    {
     "cell_type": "code",
     "collapsed": false,
     "input": [
      "ficoint = [ int(x.split('-')[0]) for x in ficostr ]"
     ],
     "language": "python",
     "metadata": {},
     "outputs": [],
     "prompt_number": 385
    },
    {
     "cell_type": "code",
     "collapsed": false,
     "input": [
      "ficoint[0:10]"
     ],
     "language": "python",
     "metadata": {},
     "outputs": [
      {
       "output_type": "pyout",
       "prompt_number": 386,
       "text": [
        "[735, 715, 690, 695, 695, 670, 720, 705, 685, 715]"
       ]
      }
     ],
     "prompt_number": 386
    },
    {
     "cell_type": "code",
     "collapsed": false,
     "input": [
      "ldb2['FICO.Range'] = ficoint"
     ],
     "language": "python",
     "metadata": {},
     "outputs": [],
     "prompt_number": 387
    },
    {
     "cell_type": "code",
     "collapsed": false,
     "input": [
      "len(ficoint)"
     ],
     "language": "python",
     "metadata": {},
     "outputs": [
      {
       "output_type": "pyout",
       "prompt_number": 388,
       "text": [
        "2497"
       ]
      }
     ],
     "prompt_number": 388
    },
    {
     "cell_type": "code",
     "collapsed": false,
     "input": [
      "ldb2['FICO.Range']"
     ],
     "language": "python",
     "metadata": {},
     "outputs": [
      {
       "output_type": "pyout",
       "prompt_number": 389,
       "text": [
        "0     735\n",
        "1     715\n",
        "2     690\n",
        "3     695\n",
        "4     695\n",
        "5     670\n",
        "6     720\n",
        "7     705\n",
        "8     685\n",
        "9     715\n",
        "10    670\n",
        "11    665\n",
        "12    670\n",
        "13    735\n",
        "14    725\n",
        "...\n",
        "2485    765\n",
        "2486    665\n",
        "2487    660\n",
        "2488    685\n",
        "2489    670\n",
        "2490    710\n",
        "2491    720\n",
        "2492    710\n",
        "2493    675\n",
        "2494    685\n",
        "2495    705\n",
        "2496    740\n",
        "2497    680\n",
        "2498    675\n",
        "2499    670\n",
        "Name: FICO.Range, Length: 2497, dtype: int64"
       ]
      }
     ],
     "prompt_number": 389
    },
    {
     "cell_type": "markdown",
     "metadata": {},
     "source": [
      "#### Conclusion of Step 4"
     ]
    },
    {
     "cell_type": "markdown",
     "metadata": {},
     "source": [
      "* We used techniques similar to the ones in Step 1\n",
      " * we picked a column - the FICO.Range column\n",
      " * we split the values on the separator '-'\n",
      " * we picked the fist value, i.e. the lower limit\n",
      " * we converted it to an int"
     ]
    },
    {
     "cell_type": "markdown",
     "metadata": {},
     "source": [
      "Now we have a dataset that we can use for our data exploration and analysis"
     ]
    },
    {
     "cell_type": "code",
     "collapsed": false,
     "input": [],
     "language": "python",
     "metadata": {},
     "outputs": [],
     "prompt_number": 389
    }
   ],
   "metadata": {}
  }
 ]
}