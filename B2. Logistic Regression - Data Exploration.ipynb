{
 "metadata": {
  "name": "B2. Logistic Regression - Data Exploration"
 },
 "nbformat": 3,
 "nbformat_minor": 0,
 "worksheets": [
  {
   "cells": [
    {
     "cell_type": "markdown",
     "metadata": {},
     "source": [
      "### This is a placeholder. \n",
      "The data set used is the same as in Linear Regression where the data exploration was done in depth.  \n",
      "So this section is just a place holder and the content is identical to the data exploration lesson in Linear Regression.  \n",
      "Should we use a different data set for Logistic Regression in future, this is where the data exploration will go.\n"
     ]
    },
    {
     "cell_type": "code",
     "collapsed": false,
     "input": [],
     "language": "python",
     "metadata": {},
     "outputs": []
    }
   ],
   "metadata": {}
  }
 ]
}