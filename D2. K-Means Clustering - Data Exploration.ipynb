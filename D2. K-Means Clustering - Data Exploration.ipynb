{
 "metadata": {
  "name": "D2. K-Means Clustering - Data Exploration"
 },
 "nbformat": 3,
 "nbformat_minor": 0,
 "worksheets": [
  {
   "cells": [
    {
     "cell_type": "markdown",
     "metadata": {},
     "source": [
      "K-Means Clustering - Data Exploration\n",
      "==========================================\n",
      "***\n",
      "\n",
      "###UN Data on Countries of the World\n",
      "\n",
      "We are going to explore or dataset which we get in a csv format but may have missing values.\n",
      "We need to be able to drill down on useful dimensions to explore after cleaning up the data.\n",
      "Since we only have one observation per country, we may not have the option to use columns where there are many missing values as we are effectively going to drop many countries when we drop rows with missing values.\n",
      "But then how did we drop such rows before? Because in those cases there were many observations per individual entity and dropping some did not eliminate an entity altogether.\n",
      "\n",
      "So first we import the data and explore the columns and types - this time rather than doing it manually we are going to use the facilities in our software to do that.\n"
     ]
    },
    {
     "cell_type": "code",
     "collapsed": false,
     "input": [
      "import pandas as pd\n",
      "df = pd.read_csv('../datasets/UN.csv')\n",
      "print('----')\n",
      "# print the raw column information plus summary header\n",
      "print(df)\n",
      "print('----')\n",
      "# look at the types of each column explicitly\n",
      "print('Individual columns - Python data types')\n",
      "[(x, type(df[x][0])) for x in df.columns] "
     ],
     "language": "python",
     "metadata": {},
     "outputs": [
      {
       "output_type": "stream",
       "stream": "stdout",
       "text": [
        "----\n",
        "<class 'pandas.core.frame.DataFrame'>\n",
        "Int64Index: 207 entries, 0 to 206\n",
        "Data columns (total 14 columns):\n",
        "country                   207  non-null values\n",
        "region                    207  non-null values\n",
        "tfr                       197  non-null values\n",
        "contraception             144  non-null values\n",
        "educationMale             76  non-null values\n",
        "educationFemale           76  non-null values\n",
        "lifeMale                  196  non-null values\n",
        "lifeFemale                196  non-null values\n",
        "infantMortality           201  non-null values\n",
        "GDPperCapita              197  non-null values\n",
        "economicActivityMale      165  non-null values\n",
        "economicActivityFemale    165  non-null values\n",
        "illiteracyMale            160  non-null values\n",
        "illiteracyFemale          160  non-null values\n",
        "dtypes: float64(12), object(2)\n",
        "----\n",
        "Individual columns - Python data types\n"
       ]
      },
      {
       "output_type": "pyout",
       "prompt_number": 3,
       "text": [
        "[('country', str),\n",
        " ('region', str),\n",
        " ('tfr', numpy.float64),\n",
        " ('contraception', numpy.float64),\n",
        " ('educationMale', numpy.float64),\n",
        " ('educationFemale', numpy.float64),\n",
        " ('lifeMale', numpy.float64),\n",
        " ('lifeFemale', numpy.float64),\n",
        " ('infantMortality', numpy.float64),\n",
        " ('GDPperCapita', numpy.float64),\n",
        " ('economicActivityMale', numpy.float64),\n",
        " ('economicActivityFemale', numpy.float64),\n",
        " ('illiteracyMale', numpy.float64),\n",
        " ('illiteracyFemale', numpy.float64)]"
       ]
      }
     ],
     "prompt_number": 3
    },
    {
     "cell_type": "markdown",
     "metadata": {},
     "source": [
      "Here we see that we have 14 columns with country and region being string types and the rest being floats.  We also see that the country column has 207 values, ie this is data on 207 countries.\n",
      "The region columns also has 207 entries, but the rest of the columns have many missing entries, indicated by number of non-null values less than 207.\n",
      "\n",
      "We see that tfr, lifeMale, lifeFemale and GDP, and infantMortality are the columns closest to 207.  That is, if we use these columns we will only drop a few countries and not whole clusters as we might if we used educationMale and educationFemale.  On the other hand were we to use educationMale and educatonFemale we would have to drop almost 2/3 of the data. So we focus on the columns with non-null values close to 207.\n",
      "\n",
      "So our short list is now, country, region, tfr, lifeMale, lifeFemale and GDP, and infantMortality.\n",
      "\n",
      "We suspect that there is clustering of lifeMale, lifeFemale and infantMortality according to GDP and we are going to pull out the heavy machinery of K-Means sofwtare to analyse this in detail and look at the clusters.  \n",
      "\n",
      "We don't know in advance how many clusters there will be which is different from the iris example where we had a 'species' label and there were three unique species.\n",
      "\n",
      "So while using our KMeans software we will also look at some analytical measures to decide what the right number of clusters might be after looking at multiple such possibilities from 1 through 10 candidate clusters.\n",
      "\n",
      "Finally, to be able to apply the KMeans modeling software we convert each field in our file to a scientific float format that the numerical algorithms expect.\n",
      "\n",
      "Onward!"
     ]
    },
    {
     "cell_type": "code",
     "collapsed": false,
     "input": [
      "from IPython.core.display import HTML\n",
      "def css_styling():\n",
      "    styles = open(\"../styles/custom.css\", \"r\").read()\n",
      "    return HTML(styles)\n",
      "css_styling()"
     ],
     "language": "python",
     "metadata": {},
     "outputs": [
      {
       "html": [
        "<style>\n",
        "    @font-face {\n",
        "        font-family: \"Computer Modern\";\n",
        "        src: url('http://mirrors.ctan.org/fonts/cm-unicode/fonts/otf/cmunss.otf');\n",
        "    }\n",
        "    div.cell{\n",
        "        width:800px;\n",
        "        margin-left:auto;\n",
        "        margin-right:auto;\n",
        "    }\n",
        "    h1 {\n",
        "        font-family: \"Charis SIL\", Palatino, serif;\n",
        "    }\n",
        "    h4{\n",
        "        margin-top:12px;\n",
        "        margin-bottom: 3px;\n",
        "       }\n",
        "    div.text_cell_render{\n",
        "        font-family: Computer Modern, \"Helvetica Neue\", Arial, Helvetica, Geneva, sans-serif;\n",
        "        line-height: 145%;\n",
        "        font-size: 120%;\n",
        "        width:800px;\n",
        "        margin-left:auto;\n",
        "        margin-right:auto;\n",
        "    }\n",
        "    .CodeMirror{\n",
        "            font-family: \"Source Code Pro\", source-code-pro,Consolas, monospace;\n",
        "    }\n",
        "    .prompt{\n",
        "        display: None;\n",
        "    }\n",
        "    .text_cell_render h5 {\n",
        "        font-weight: 300;\n",
        "        font-size: 16pt;\n",
        "        color: #4057A1;\n",
        "        font-style: italic;\n",
        "        margin-bottom: .5em;\n",
        "        margin-top: 0.5em;\n",
        "        display: block;\n",
        "    }\n",
        "    \n",
        "    .warning{\n",
        "        color: rgb( 240, 20, 20 )\n",
        "        }\n",
        "</style>\n",
        "<script>\n",
        "    MathJax.Hub.Config({\n",
        "                        TeX: {\n",
        "                           extensions: [\"AMSmath.js\"]\n",
        "                           },\n",
        "                tex2jax: {\n",
        "                    inlineMath: [ ['$','$'], [\"\\\\(\",\"\\\\)\"] ],\n",
        "                    displayMath: [ ['$$','$$'], [\"\\\\[\",\"\\\\]\"] ]\n",
        "                },\n",
        "                displayAlign: 'center', // Change this to 'center' to center equations.\n",
        "                \"HTML-CSS\": {\n",
        "                    styles: {'.MathJax_Display': {\"margin\": 4}}\n",
        "                }\n",
        "        });\n",
        "</script>"
       ],
       "output_type": "pyout",
       "prompt_number": 2,
       "text": [
        "<IPython.core.display.HTML at 0x1092b1890>"
       ]
      }
     ],
     "prompt_number": 2
    }
   ],
   "metadata": {}
  }
 ]
}