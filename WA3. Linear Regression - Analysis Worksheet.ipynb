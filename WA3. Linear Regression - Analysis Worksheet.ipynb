{
 "metadata": {
  "name": "WA3. Linear Regression - Analysis Worksheet"
 },
 "nbformat": 3,
 "nbformat_minor": 0,
 "worksheets": [
  {
   "cells": [
    {
     "cell_type": "code",
     "collapsed": false,
     "input": [
      "import pylab as pl\n",
      "import numpy as np\n",
      "#from sklearn import datasets, linear_model\n",
      "import pandas as pd\n",
      "import statsmodels.api as sm\n",
      "\n",
      "# import the cleaned up dataset\n",
      "df = pd.read_csv('../datasets/loanf.csv')\n",
      "\n",
      "intrate = df['Interest.Rate']\n",
      "loanamt = df['Loan.Amount']\n",
      "fico = df['FICO.Score']\n",
      "\n",
      "# reshape the data from a pandas Series to columns \n",
      "# the dependent variable\n",
      "y = np.matrix(intrate).transpose()\n",
      "# the independent variables shaped as columns\n",
      "x1 = np.matrix(fico).transpose()\n",
      "x2 = np.matrix(loanamt).transpose()\n",
      "\n",
      "# put the two columns together to create an input matrix \n",
      "# if we had n independent variables we would have n columns here\n",
      "x = np.column_stack([x1,x2])\n",
      "\n",
      "# create a linear model and fit it to the data\n",
      "X = sm.add_constant(x)\n",
      "model = sm.OLS(y,X)\n",
      "f = model.fit()\n",
      "\n",
      "print 'Coefficients: ', f.params[0:2]\n",
      "print 'Intercept: ', f.params[2]\n",
      "print 'P-Values: ', f.pvalues\n",
      "print 'R-Squared: ', f.rsquared\n"
     ],
     "language": "python",
     "metadata": {},
     "outputs": [
      {
       "output_type": "stream",
       "stream": "stdout",
       "text": [
        "Coefficients:  [-0.08844242  0.00021075]\n",
        "Intercept:  72.8827983168\n",
        "P-Values:  [  0.00000000e+000   5.96972978e-203   0.00000000e+000]\n",
        "R-Squared:  0.656632624649\n"
       ]
      }
     ],
     "prompt_number": 2
    },
    {
     "cell_type": "code",
     "collapsed": false,
     "input": [
      "from IPython.core.display import HTML\n",
      "def css_styling():\n",
      "    styles = open(\"../styles/custom.css\", \"r\").read()\n",
      "    return HTML(styles)\n",
      "css_styling()"
     ],
     "language": "python",
     "metadata": {},
     "outputs": [
      {
       "html": [
        "<style>\n",
        "    @font-face {\n",
        "        font-family: \"Computer Modern\";\n",
        "        src: url('http://mirrors.ctan.org/fonts/cm-unicode/fonts/otf/cmunss.otf');\n",
        "    }\n",
        "    div.cell{\n",
        "        width:800px;\n",
        "        margin-left:auto;\n",
        "        margin-right:auto;\n",
        "    }\n",
        "    h1 {\n",
        "        font-family: \"Charis SIL\", Palatino, serif;\n",
        "    }\n",
        "    h4{\n",
        "        margin-top:12px;\n",
        "        margin-bottom: 3px;\n",
        "       }\n",
        "    div.text_cell_render{\n",
        "        font-family: Computer Modern, \"Helvetica Neue\", Arial, Helvetica, Geneva, sans-serif;\n",
        "        line-height: 145%;\n",
        "        font-size: 120%;\n",
        "        width:800px;\n",
        "        margin-left:auto;\n",
        "        margin-right:auto;\n",
        "    }\n",
        "    .CodeMirror{\n",
        "            font-family: \"Source Code Pro\", source-code-pro,Consolas, monospace;\n",
        "    }\n",
        "    .prompt{\n",
        "        display: None;\n",
        "    }\n",
        "    .text_cell_render h5 {\n",
        "        font-weight: 300;\n",
        "        font-size: 16pt;\n",
        "        color: #4057A1;\n",
        "        font-style: italic;\n",
        "        margin-bottom: .5em;\n",
        "        margin-top: 0.5em;\n",
        "        display: block;\n",
        "    }\n",
        "    \n",
        "    .warning{\n",
        "        color: rgb( 240, 20, 20 )\n",
        "        }\n",
        "</style>\n",
        "<script>\n",
        "    MathJax.Hub.Config({\n",
        "                        TeX: {\n",
        "                           extensions: [\"AMSmath.js\"]\n",
        "                           },\n",
        "                tex2jax: {\n",
        "                    inlineMath: [ ['$','$'], [\"\\\\(\",\"\\\\)\"] ],\n",
        "                    displayMath: [ ['$$','$$'], [\"\\\\[\",\"\\\\]\"] ]\n",
        "                },\n",
        "                displayAlign: 'center', // Change this to 'center' to center equations.\n",
        "                \"HTML-CSS\": {\n",
        "                    styles: {'.MathJax_Display': {\"margin\": 4}}\n",
        "                }\n",
        "        });\n",
        "</script>"
       ],
       "output_type": "pyout",
       "prompt_number": 1,
       "text": [
        "<IPython.core.display.HTML at 0x10931ba90>"
       ]
      }
     ],
     "prompt_number": 1
    },
    {
     "cell_type": "code",
     "collapsed": false,
     "input": [],
     "language": "python",
     "metadata": {},
     "outputs": []
    }
   ],
   "metadata": {}
  }
 ]
}