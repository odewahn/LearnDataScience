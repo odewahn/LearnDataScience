{
 "metadata": {
  "name": "WD2. K-Means Clustering - Data Exploration-Worksheet"
 },
 "nbformat": 3,
 "nbformat_minor": 0,
 "worksheets": [
  {
   "cells": [
    {
     "cell_type": "code",
     "collapsed": false,
     "input": [
      "import pandas as pd\n",
      "df = pd.read_csv('../datasets/UN.csv')\n",
      "print('----')\n",
      "# print the raw column information plus summary header\n",
      "print(df)\n",
      "print('----')\n",
      "# look at the types of each column explicitly\n",
      "print('Individual columns - Python data types')\n",
      "[(x, type(df[x][0])) for x in df.columns] "
     ],
     "language": "python",
     "metadata": {},
     "outputs": [
      {
       "output_type": "stream",
       "stream": "stdout",
       "text": [
        "----\n",
        "<class 'pandas.core.frame.DataFrame'>\n",
        "Int64Index: 207 entries, 0 to 206\n",
        "Data columns (total 14 columns):\n",
        "country                   207  non-null values\n",
        "region                    207  non-null values\n",
        "tfr                       197  non-null values\n",
        "contraception             144  non-null values\n",
        "educationMale             76  non-null values\n",
        "educationFemale           76  non-null values\n",
        "lifeMale                  196  non-null values\n",
        "lifeFemale                196  non-null values\n",
        "infantMortality           201  non-null values\n",
        "GDPperCapita              197  non-null values\n",
        "economicActivityMale      165  non-null values\n",
        "economicActivityFemale    165  non-null values\n",
        "illiteracyMale            160  non-null values\n",
        "illiteracyFemale          160  non-null values\n",
        "dtypes: float64(12), object(2)\n",
        "----\n",
        "Individual columns - Python data types\n"
       ]
      },
      {
       "output_type": "pyout",
       "prompt_number": 2,
       "text": [
        "[('country', str),\n",
        " ('region', str),\n",
        " ('tfr', numpy.float64),\n",
        " ('contraception', numpy.float64),\n",
        " ('educationMale', numpy.float64),\n",
        " ('educationFemale', numpy.float64),\n",
        " ('lifeMale', numpy.float64),\n",
        " ('lifeFemale', numpy.float64),\n",
        " ('infantMortality', numpy.float64),\n",
        " ('GDPperCapita', numpy.float64),\n",
        " ('economicActivityMale', numpy.float64),\n",
        " ('economicActivityFemale', numpy.float64),\n",
        " ('illiteracyMale', numpy.float64),\n",
        " ('illiteracyFemale', numpy.float64)]"
       ]
      }
     ],
     "prompt_number": 2
    },
    {
     "cell_type": "code",
     "collapsed": false,
     "input": [
      "from IPython.core.display import HTML\n",
      "def css_styling():\n",
      "    styles = open(\"../styles/custom.css\", \"r\").read()\n",
      "    return HTML(styles)\n",
      "css_styling()"
     ],
     "language": "python",
     "metadata": {},
     "outputs": [
      {
       "html": [
        "<style>\n",
        "    @font-face {\n",
        "        font-family: \"Computer Modern\";\n",
        "        src: url('http://mirrors.ctan.org/fonts/cm-unicode/fonts/otf/cmunss.otf');\n",
        "    }\n",
        "    div.cell{\n",
        "        width:800px;\n",
        "        margin-left:auto;\n",
        "        margin-right:auto;\n",
        "    }\n",
        "    h1 {\n",
        "        font-family: \"Charis SIL\", Palatino, serif;\n",
        "    }\n",
        "    h4{\n",
        "        margin-top:12px;\n",
        "        margin-bottom: 3px;\n",
        "       }\n",
        "    div.text_cell_render{\n",
        "        font-family: Computer Modern, \"Helvetica Neue\", Arial, Helvetica, Geneva, sans-serif;\n",
        "        line-height: 145%;\n",
        "        font-size: 120%;\n",
        "        width:800px;\n",
        "        margin-left:auto;\n",
        "        margin-right:auto;\n",
        "    }\n",
        "    .CodeMirror{\n",
        "            font-family: \"Source Code Pro\", source-code-pro,Consolas, monospace;\n",
        "    }\n",
        "    .prompt{\n",
        "        display: None;\n",
        "    }\n",
        "    .text_cell_render h5 {\n",
        "        font-weight: 300;\n",
        "        font-size: 16pt;\n",
        "        color: #4057A1;\n",
        "        font-style: italic;\n",
        "        margin-bottom: .5em;\n",
        "        margin-top: 0.5em;\n",
        "        display: block;\n",
        "    }\n",
        "    \n",
        "    .warning{\n",
        "        color: rgb( 240, 20, 20 )\n",
        "        }\n",
        "</style>\n",
        "<script>\n",
        "    MathJax.Hub.Config({\n",
        "                        TeX: {\n",
        "                           extensions: [\"AMSmath.js\"]\n",
        "                           },\n",
        "                tex2jax: {\n",
        "                    inlineMath: [ ['$','$'], [\"\\\\(\",\"\\\\)\"] ],\n",
        "                    displayMath: [ ['$$','$$'], [\"\\\\[\",\"\\\\]\"] ]\n",
        "                },\n",
        "                displayAlign: 'center', // Change this to 'center' to center equations.\n",
        "                \"HTML-CSS\": {\n",
        "                    styles: {'.MathJax_Display': {\"margin\": 4}}\n",
        "                }\n",
        "        });\n",
        "</script>"
       ],
       "output_type": "pyout",
       "prompt_number": 2,
       "text": [
        "<IPython.core.display.HTML at 0x1093aafd0>"
       ]
      }
     ],
     "prompt_number": 2
    }
   ],
   "metadata": {}
  }
 ]
}